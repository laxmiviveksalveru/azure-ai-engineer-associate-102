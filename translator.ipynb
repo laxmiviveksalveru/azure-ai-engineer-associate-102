{
 "cells": [
  {
   "cell_type": "code",
   "execution_count": 31,
   "id": "1b7cefef-99ea-4298-b6bb-b12605a7c7d4",
   "metadata": {
    "tags": []
   },
   "outputs": [
    {
     "name": "stdout",
     "output_type": "stream",
     "text": [
      "Collecting azure-ai-translation-text==1.0.0b1\n",
      "  Using cached azure_ai_translation_text-1.0.0b1-py3-none-any.whl.metadata (16 kB)\n",
      "Requirement already satisfied: msrest>=0.7.1 in /anaconda/envs/azureml_py310_sdkv2/lib/python3.10/site-packages (from azure-ai-translation-text==1.0.0b1) (0.7.1)\n",
      "Requirement already satisfied: azure-core<2.0.0,>=1.24.0 in /anaconda/envs/azureml_py310_sdkv2/lib/python3.10/site-packages (from azure-ai-translation-text==1.0.0b1) (1.31.0)\n",
      "Requirement already satisfied: typing-extensions>=4.3.0 in /anaconda/envs/azureml_py310_sdkv2/lib/python3.10/site-packages (from azure-ai-translation-text==1.0.0b1) (4.12.2)\n",
      "Requirement already satisfied: requests>=2.21.0 in /anaconda/envs/azureml_py310_sdkv2/lib/python3.10/site-packages (from azure-core<2.0.0,>=1.24.0->azure-ai-translation-text==1.0.0b1) (2.32.3)\n",
      "Requirement already satisfied: six>=1.11.0 in /anaconda/envs/azureml_py310_sdkv2/lib/python3.10/site-packages (from azure-core<2.0.0,>=1.24.0->azure-ai-translation-text==1.0.0b1) (1.16.0)\n",
      "Requirement already satisfied: certifi>=2017.4.17 in /anaconda/envs/azureml_py310_sdkv2/lib/python3.10/site-packages (from msrest>=0.7.1->azure-ai-translation-text==1.0.0b1) (2024.8.30)\n",
      "Requirement already satisfied: isodate>=0.6.0 in /anaconda/envs/azureml_py310_sdkv2/lib/python3.10/site-packages (from msrest>=0.7.1->azure-ai-translation-text==1.0.0b1) (0.6.1)\n",
      "Requirement already satisfied: requests-oauthlib>=0.5.0 in /anaconda/envs/azureml_py310_sdkv2/lib/python3.10/site-packages (from msrest>=0.7.1->azure-ai-translation-text==1.0.0b1) (2.0.0)\n",
      "Requirement already satisfied: charset-normalizer<4,>=2 in /anaconda/envs/azureml_py310_sdkv2/lib/python3.10/site-packages (from requests>=2.21.0->azure-core<2.0.0,>=1.24.0->azure-ai-translation-text==1.0.0b1) (3.3.2)\n",
      "Requirement already satisfied: idna<4,>=2.5 in /anaconda/envs/azureml_py310_sdkv2/lib/python3.10/site-packages (from requests>=2.21.0->azure-core<2.0.0,>=1.24.0->azure-ai-translation-text==1.0.0b1) (3.10)\n",
      "Requirement already satisfied: urllib3<3,>=1.21.1 in /anaconda/envs/azureml_py310_sdkv2/lib/python3.10/site-packages (from requests>=2.21.0->azure-core<2.0.0,>=1.24.0->azure-ai-translation-text==1.0.0b1) (2.2.3)\n",
      "Requirement already satisfied: oauthlib>=3.0.0 in /anaconda/envs/azureml_py310_sdkv2/lib/python3.10/site-packages (from requests-oauthlib>=0.5.0->msrest>=0.7.1->azure-ai-translation-text==1.0.0b1) (3.2.2)\n",
      "Using cached azure_ai_translation_text-1.0.0b1-py3-none-any.whl (65 kB)\n",
      "Installing collected packages: azure-ai-translation-text\n",
      "  Attempting uninstall: azure-ai-translation-text\n",
      "    Found existing installation: azure-ai-translation-text 1.0.1\n",
      "    Uninstalling azure-ai-translation-text-1.0.1:\n",
      "      Successfully uninstalled azure-ai-translation-text-1.0.1\n",
      "Successfully installed azure-ai-translation-text-1.0.0b1\n",
      "Note: you may need to restart the kernel to use updated packages.\n"
     ]
    }
   ],
   "source": [
    "pip install azure-ai-translation-text==1.0.0b1\n"
   ]
  },
  {
   "cell_type": "code",
   "execution_count": 44,
   "id": "aa9e3b9d-3293-4582-9ccb-9be39b39d40f",
   "metadata": {
    "tags": []
   },
   "outputs": [
    {
     "name": "stdout",
     "output_type": "stream",
     "text": [
      "\n",
      "Translated Item: {'detectedLanguage': {'language': 'en', 'score': 0.78}, 'translations': [{'text': 'హలో నా పేరు వివేక్', 'to': 'te'}]}\n",
      "→ Telugu: హలో నా పేరు వివేక్\n"
     ]
    }
   ],
   "source": [
    "from azure.ai.translation.text import TextTranslationClient, TranslatorCredential\n",
    "from azure.ai.translation.text.models import InputTextItem\n",
    "\n",
    "# Your Translator resource credentials\n",
    "key = \"put your api key\"\n",
    "region = \"y\"\n",
    "endpoint = \"https://api.cognitive.microsofttranslator.com/\"\n",
    "\n",
    "# Authenticate\n",
    "credential = TranslatorCredential(key, region)\n",
    "client = TextTranslationClient(endpoint=endpoint, credential=credential)\n",
    "\n",
    "# Translate\n",
    "response = client.translate(content=[InputTextItem(text=\"hello I am Vivek\")], to=[\"te\"])\n",
    "\n",
    "for item in response:\n",
    "    print(f\"\\nTranslated Item: {item}\")\n",
    "    for translation in item.translations:\n",
    "        print(\"→ Telugu:\", translation.text)\n"
   ]
  },
  {
   "cell_type": "code",
   "execution_count": null,
   "id": "aabcb350-583a-432b-85ef-b02006cdf6e1",
   "metadata": {},
   "outputs": [],
   "source": []
  }
 ],
 "metadata": {
  "kernelspec": {
   "display_name": "Python 3.10 - SDK v2",
   "language": "python",
   "name": "python310-sdkv2"
  },
  "language_info": {
   "codemirror_mode": {
    "name": "ipython",
    "version": 3
   },
   "file_extension": ".py",
   "mimetype": "text/x-python",
   "name": "python",
   "nbconvert_exporter": "python",
   "pygments_lexer": "ipython3",
   "version": "3.10.14"
  }
 },
 "nbformat": 4,
 "nbformat_minor": 5
}
